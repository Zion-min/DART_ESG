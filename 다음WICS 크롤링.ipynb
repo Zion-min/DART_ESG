{
 "cells": [
  {
   "cell_type": "code",
   "execution_count": 25,
   "metadata": {},
   "outputs": [],
   "source": [
    "import qconfig\n",
    "import requests\n",
    "from pandas import DataFrame\n",
    " \n",
    "\n",
    "df = DataFrame(columns=['code', '종목', '소분류'])\n",
    "\n",
    "for wics_code in qconfig.wics_sc.keys():\n",
    "    for page in range(5):\n",
    "        response = requests.get(qconfig.daum_url(page, wics_code),headers = qconfig.headers)\n",
    "\n",
    "        if(response.status_code == 200): # request success\n",
    "            json_list = response.json() # dictionary\n",
    "            for json in json_list['data']:\n",
    "                code = json['symbolCode']\n",
    "                name = json['name']\n",
    "                ss = qconfig.wics_sc[wics_code]\n",
    "                df = df.append({'code':code, '종목':name, '소분류':ss}, ignore_index=True)\n",
    "        else:\n",
    "            print('Error:', response.status_code)\n",
    "            print('WICS code:', str(wics_code))"
   ]
  },
  {
   "cell_type": "code",
   "execution_count": 24,
   "metadata": {},
   "outputs": [
    {
     "data": {
      "text/plain": [
       "'에너지장비및서비스'"
      ]
     },
     "execution_count": 24,
     "metadata": {},
     "output_type": "execute_result"
    }
   ],
   "source": []
  },
  {
   "cell_type": "code",
   "execution_count": 28,
   "metadata": {},
   "outputs": [],
   "source": [
    "df.drop_duplicates(['종목']).set_index('소분류').to_excel('sector.xlsx')"
   ]
  },
  {
   "cell_type": "code",
   "execution_count": 16,
   "metadata": {},
   "outputs": [],
   "source": [
    "#backtest setting\n",
    "\n",
    "import numpy as np\n",
    "import matplotlib.pyplot as plt\n",
    "import pandas as pd\n",
    "import matplotlib.ticker as ticker\n",
    "import pykrx.stock as stock"
   ]
  },
  {
   "cell_type": "code",
   "execution_count": null,
   "metadata": {},
   "outputs": [],
   "source": []
  },
  {
   "cell_type": "code",
   "execution_count": null,
   "metadata": {},
   "outputs": [],
   "source": []
  }
 ],
 "metadata": {
  "kernelspec": {
   "display_name": "Python 3",
   "language": "python",
   "name": "python3"
  },
  "language_info": {
   "codemirror_mode": {
    "name": "ipython",
    "version": 3
   },
   "file_extension": ".py",
   "mimetype": "text/x-python",
   "name": "python",
   "nbconvert_exporter": "python",
   "pygments_lexer": "ipython3",
   "version": "3.7.7"
  }
 },
 "nbformat": 4,
 "nbformat_minor": 4
}
